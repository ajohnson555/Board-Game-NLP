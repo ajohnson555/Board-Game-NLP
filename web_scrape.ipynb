{
 "cells": [
  {
   "cell_type": "code",
   "execution_count": 216,
   "id": "c80d9b38",
   "metadata": {},
   "outputs": [],
   "source": [
    "import pandas as pd\n",
    "import requests\n",
    "from bs4 import BeautifulSoup\n",
    "from selenium import webdriver\n",
    "from selenium.webdriver.chrome.options import Options\n",
    "import time\n",
    "import re\n",
    "import random"
   ]
  },
  {
   "cell_type": "code",
   "execution_count": 221,
   "id": "2bc8536b",
   "metadata": {},
   "outputs": [
    {
     "data": {
      "text/plain": [
       "{'identifier': '2'}"
      ]
     },
     "execution_count": 221,
     "metadata": {},
     "output_type": "execute_result"
    }
   ],
   "source": [
    "# Set up headless browser\n",
    "options = Options()\n",
    "#options.add_argument(\"--headless\")  # run in background\n",
    "options.add_argument(\"user-agent=Mozilla/5.0 (Windows NT 10.0; Win64; x64)\")\n",
    "options.add_argument(\"window-size=1200x800\")\n",
    "options.add_experimental_option(\"excludeSwitches\", [\"enable-automation\"])\n",
    "options.add_experimental_option('useAutomationExtension', False)\n",
    "# Set up driver (change path to chromedriver if needed)\n",
    "driver = webdriver.Chrome(options=options)\n",
    "driver.execute_cdp_cmd(\"Page.addScriptToEvaluateOnNewDocument\", {\n",
    "    \"source\": \"\"\"\n",
    "    Object.defineProperty(navigator, 'webdriver', {\n",
    "        get: () => undefined\n",
    "    });\n",
    "    \"\"\"\n",
    "})"
   ]
  },
  {
   "cell_type": "code",
   "execution_count": 198,
   "id": "7761ea22",
   "metadata": {},
   "outputs": [],
   "source": [
    "game_links = []\n",
    "base_browse_url = \"https://boardgamegeek.com/browse/boardgame/page/\"\n",
    "for page in range(1, 2):\n",
    "    browse_url = base_browse_url + str(page)\n",
    "    driver.get(browse_url)\n",
    "    soup = BeautifulSoup(driver.page_source, \"html.parser\")\n",
    "\n",
    "    all_href = soup.find_all(\"a\", class_=\"primary\")\n",
    "    for game in all_href:  \n",
    "        game_links.append(\"https://boardgamegeek.com\" + game[\"href\"])\n",
    "\n"
   ]
  },
  {
   "cell_type": "code",
   "execution_count": 220,
   "id": "90c62645",
   "metadata": {},
   "outputs": [
    {
     "data": {
      "text/plain": [
       "['https://boardgamegeek.com/boardgame/224517/brass-birmingham',\n",
       " 'https://boardgamegeek.com/boardgame/161936/pandemic-legacy-season-1',\n",
       " 'https://boardgamegeek.com/boardgame/342942/ark-nova']"
      ]
     },
     "execution_count": 220,
     "metadata": {},
     "output_type": "execute_result"
    }
   ],
   "source": [
    "game_links[0:3]"
   ]
  },
  {
   "cell_type": "code",
   "execution_count": 222,
   "id": "024b7b5c",
   "metadata": {},
   "outputs": [
    {
     "name": "stdout",
     "output_type": "stream",
     "text": [
      "________________________________________\n",
      "https://boardgamegeek.com/boardgame/224517/brass-birmingham\n",
      "Brass: Birmingham | Rating: 8.6 | Weight: 3.87 | Type: Strategy | Minimum Age: 14 | Player Count: 2–4–\n",
      "Brass: Birminghamis an economic strategy game sequel to Martin Wallace's 2007 masterpiece,Brass.Brass: Birminghamtells the story of competing entrepreneurs in Birmingham during the industrial revolution between the years of 1770 and 1870.\n",
      "It offers a very different story arc and experience from its predecessor. As in its predecessor, you must develop, build and establish your industries and network in an effort to exploit low or high market demands. The game is played over two halves: the canal era (years 1770-1830) and the rail era (years 1830-1870). To win the game, score the most VPs. VPs are counted at the end of each half for the canals, rails and established (flipped) industry tiles.\n",
      "Each round, players take turns according to the turn order track, receiving two actions to perform any of the following actions (found in the original game):\n",
      "1)Build- Pay required resources and place an industry tile.2)Network- Add a rail / canal link, expanding your network.3)Develop- Increase the VP value of an industry.4)Sell- Sell your cotton, manufactured goods and pottery.5)Loan- Take a £30 loan and reduce your income.\n",
      "Brass: Birminghamalso features a new sixth action:\n",
      "6)Scout- Discard three cards and take a wild location and wild industry card. (This action replaces Double Action Build in originalBrass.)\n",
      "________________________________________\n",
      "https://boardgamegeek.com/boardgame/161936/pandemic-legacy-season-1\n",
      "Pandemic Legacy: Season 1 | Rating: 8.5 | Weight: 2.83 | Type: Strategy | Minimum Age: 13 | Player Count: 2–4–\n",
      "Pandemic Legacyis a co-operative campaign game, with an overarching story arc played through 12-24 sessions, depending on how well your group does at the game. At the beginning, the game starts in a very similar fashion as basicPandemic, in which your team of disease-fighting specialists races against the clock to travel around the world, treating disease hot spots while researching cures for each of four plagues before they get out of hand.\n",
      "During a player's turn, they have four actions available, with which they may travel around in the world in various ways (sometimes needing to discard a card), build structures like research stations, treat diseases (removing one cube from the board; if all cubes of a color have been removed, the disease has been eradicated), trade cards with other players, or find a cure for a disease (requiring five cards of the same color to be discarded while at a research station). Each player has a unique role with special abilities to help them at these actions.\n",
      "After a player has taken their actions, they draw two cards. These cards can include epidemic cards, which will place new disease cubes on the board, and can lead to an outbreak, spreading disease cubes even further. Outbreaks additionally increase the panic level of a city, making that city more expensive to travel to.\n",
      "Each month in the game, you have two chances to achieve that month's objectives. If you succeed, you win and immediately move on to the next month. If you fail, you have a second chance, with more funding for beneficial event cards.\n",
      "During the campaign, new rules and components will be introduced. These will sometimes require you to permanently alter the components of the game; this includes writing on cards, ripping up cards, and placing permanent stickers on components. Your characters can gain new skills, or detrimental effects. A character can even be lost entirely, at which point it's no longer available for play.\n",
      "Part of thePandemic series\n",
      "________________________________________\n",
      "https://boardgamegeek.com/boardgame/342942/ark-nova\n",
      "Ark Nova | Rating: 8.5 | Weight: 3.78 | Type: Strategy | Minimum Age: 14 | Player Count: 1–4–\n",
      "InArk Nova, you will plan and design a modern, scientifically managed zoo. With the ultimate goal of owning the most successful zoological establishment, you will build enclosures, accommodate animals, and support conservation projects all over the world. Specialists and unique buildings will help you in achieving this goal.\n",
      "Each player has a set of five action cards to manage their gameplay, and the power of an action is determined by the slot the card currently occupies. The cards in question are:\n",
      "255 cards featuring animals, specialists, special enclosures, and conservation projects, each with a special ability, are at the heart ofArk Nova. Use them to increase the appeal and scientific reputation of your zoo and collect conservation points.\n",
      "—description from the publisher\n"
     ]
    }
   ],
   "source": [
    "all_games_data = []\n",
    "for url in game_links[0:3]:\n",
    "    game_data = {}\n",
    "    print(\"________________________________________\")\n",
    "    print(url)\n",
    "    driver.get(url)\n",
    "    soup = BeautifulSoup(driver.page_source, \"html.parser\")\n",
    "    title_tag = soup.find(\"span\", itemprop=\"name\")\n",
    "    if title_tag:\n",
    "        title = title_tag.get_text(strip=True)\n",
    "    else:\n",
    "        title = None\n",
    "    \n",
    "\n",
    "    weight_span = soup.find(\"span\", class_=re.compile(\"gameplay-weight\"))\n",
    "    if weight_span:\n",
    "        weight = weight_span.get_text(strip=True)\n",
    "    else:\n",
    "        weight = None\n",
    "\n",
    "    panel = soup.find(\"div\", class_=\"feature-description\")\n",
    "    if panel:\n",
    "        type_tag = panel.find(\"a\")\n",
    "        if type_tag:\n",
    "            game_type = type_tag.get_text(strip=True)\n",
    "        else:\n",
    "            game_type = None\n",
    "    else:\n",
    "        game_type = None\n",
    "\n",
    "    rating_span = soup.find(\"span\", itemprop=\"ratingValue\")\n",
    "    if rating_span:\n",
    "        rating = rating_span.get_text(strip=True)\n",
    "    else:\n",
    "        rating = None\n",
    "\n",
    "    age_span = soup.find(\"span\", itemprop=\"suggestedMinAge\")\n",
    "    if age_span:\n",
    "        min_age = age_span.get_text(strip=True)\n",
    "    else:\n",
    "        min_age = None\n",
    "\n",
    "    num_player_container = soup.find(\"li\", itemprop=\"numberOfPlayers\")\n",
    "    if num_player_container:\n",
    "        text_lines = num_player_container.find_all(\"span\", class_=\"ng-binding ng-scope\")\n",
    "        count = \"\".join(i.get_text(strip=True) for i in text_lines)\n",
    "    else:\n",
    "        count = None\n",
    "\n",
    "    \n",
    "    desc_container = soup.find(\"article\", class_=\"game-description-body ng-scope\")\n",
    "    if desc_container:\n",
    "        paragraphs = desc_container.find_all(\"p\")\n",
    "        description = \"\\n\".join(p.get_text(strip=True) for p in paragraphs)\n",
    "    else:\n",
    "        description = None\n",
    "    print(f\"{title} | Rating: {rating} | Weight: {weight} | Type: {game_type} | Minimum Age: {min_age} | Player Count: {count}\")\n",
    "    print(description)\n",
    "    game_data['title'] = title\n",
    "    game_data['rating'] = rating\n",
    "    game_data['min_age'] = min_age\n",
    "    game_data['player_count'] = count\n",
    "    game_data['type'] = game_type\n",
    "    game_data['weight'] = weight\n",
    "    game_data['description'] = description\n"
   ]
  },
  {
   "cell_type": "code",
   "execution_count": 223,
   "id": "5817e3b8",
   "metadata": {},
   "outputs": [],
   "source": [
    "df = pd.DataFrame(all_games_data)\n",
    "df.to_csv(\"boardgames_dataset.csv\", index=False)"
   ]
  },
  {
   "cell_type": "code",
   "execution_count": null,
   "id": "91d6876a",
   "metadata": {},
   "outputs": [],
   "source": []
  }
 ],
 "metadata": {
  "kernelspec": {
   "display_name": "base",
   "language": "python",
   "name": "python3"
  },
  "language_info": {
   "codemirror_mode": {
    "name": "ipython",
    "version": 3
   },
   "file_extension": ".py",
   "mimetype": "text/x-python",
   "name": "python",
   "nbconvert_exporter": "python",
   "pygments_lexer": "ipython3",
   "version": "3.12.4"
  }
 },
 "nbformat": 4,
 "nbformat_minor": 5
}
